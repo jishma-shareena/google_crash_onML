{
  "nbformat": 4,
  "nbformat_minor": 0,
  "metadata": {
    "kernelspec": {
      "display_name": "Python 3",
      "language": "python",
      "name": "python3"
    },
    "language_info": {
      "codemirror_mode": {
        "name": "ipython",
        "version": 3
      },
      "file_extension": ".py",
      "mimetype": "text/x-python",
      "name": "python",
      "nbconvert_exporter": "python",
      "pygments_lexer": "ipython3",
      "version": "3.7.5"
    },
    "colab": {
      "name": "PyTorch_1.ipynb",
      "provenance": [],
      "include_colab_link": true
    }
  },
  "cells": [
    {
      "cell_type": "markdown",
      "metadata": {
        "id": "view-in-github",
        "colab_type": "text"
      },
      "source": [
        "<a href=\"https://colab.research.google.com/github/jishma-shareena/google_crash_onML/blob/master/PyTorch_1.ipynb\" target=\"_parent\"><img src=\"https://colab.research.google.com/assets/colab-badge.svg\" alt=\"Open In Colab\"/></a>"
      ]
    },
    {
      "cell_type": "markdown",
      "metadata": {
        "id": "ctSOkS3_JdXA",
        "colab_type": "text"
      },
      "source": [
        "# Deep Learning Tutorial"
      ]
    },
    {
      "cell_type": "markdown",
      "metadata": {
        "id": "zzS6nEGHJdXE",
        "colab_type": "text"
      },
      "source": [
        "It is a Python scientific computing package for \n",
        "  1. Matrix processing making use of GPUs\n",
        "  1. Deep learning research "
      ]
    },
    {
      "cell_type": "markdown",
      "metadata": {
        "id": "OaWB0CZBJdXI",
        "colab_type": "text"
      },
      "source": [
        "Tensors can also be used on a GPU to accelarate computing."
      ]
    },
    {
      "cell_type": "code",
      "metadata": {
        "id": "MfRI4J-uJdXM",
        "colab_type": "code",
        "colab": {}
      },
      "source": [
        "import torch"
      ],
      "execution_count": 0,
      "outputs": []
    },
    {
      "cell_type": "markdown",
      "metadata": {
        "id": "ACuHl6CJJdXZ",
        "colab_type": "text"
      },
      "source": [
        "#### Unitialized matrix"
      ]
    },
    {
      "cell_type": "code",
      "metadata": {
        "id": "0F91EhnJJdXc",
        "colab_type": "code",
        "colab": {},
        "outputId": "85443837-2859-4fe0-f322-1f6db7e747b4"
      },
      "source": [
        "x = torch.empty(5, 3)\n",
        "print(x)\n"
      ],
      "execution_count": 0,
      "outputs": [
        {
          "output_type": "stream",
          "text": [
            "tensor([[-1.0216e-06,  4.5602e-41, -1.0216e-06],\n",
            "        [ 4.5602e-41,  4.3056e+21,  7.5554e+28],\n",
            "        [ 1.7592e+22,  1.1729e-19,  1.2099e+25],\n",
            "        [ 1.8611e+34,  6.3183e+28,  6.2691e+22],\n",
            "        [ 4.7428e+30,  1.2106e+25,  4.3053e+21]])\n"
          ],
          "name": "stdout"
        }
      ]
    },
    {
      "cell_type": "markdown",
      "metadata": {
        "id": "xTKipTcSJdXp",
        "colab_type": "text"
      },
      "source": [
        "#### Random Matrix"
      ]
    },
    {
      "cell_type": "code",
      "metadata": {
        "id": "eAitOlJwJdXt",
        "colab_type": "code",
        "colab": {},
        "outputId": "9e1f8113-bb7f-473b-9e4d-528fe97c55da"
      },
      "source": [
        "x = torch.randn(5,3)#uniformly distributed in [0,1]\n",
        "print(x)"
      ],
      "execution_count": 0,
      "outputs": [
        {
          "output_type": "stream",
          "text": [
            "tensor([[ 0.6239,  0.2620,  0.8764],\n",
            "        [ 1.4618,  0.5366, -0.0251],\n",
            "        [-1.6157,  0.4294,  0.7818],\n",
            "        [-0.4720, -0.3950, -0.4954],\n",
            "        [-0.3928,  2.0235,  0.4930]])\n"
          ],
          "name": "stdout"
        }
      ]
    },
    {
      "cell_type": "code",
      "metadata": {
        "id": "pzfsZSkBJdX7",
        "colab_type": "code",
        "colab": {},
        "outputId": "178801e4-7ed9-427c-da8f-528ea3917e75"
      },
      "source": [
        "x = torch.zeros(5,3,3)\n",
        "print(x)"
      ],
      "execution_count": 0,
      "outputs": [
        {
          "output_type": "stream",
          "text": [
            "tensor([[[0., 0., 0.],\n",
            "         [0., 0., 0.],\n",
            "         [0., 0., 0.]],\n",
            "\n",
            "        [[0., 0., 0.],\n",
            "         [0., 0., 0.],\n",
            "         [0., 0., 0.]],\n",
            "\n",
            "        [[0., 0., 0.],\n",
            "         [0., 0., 0.],\n",
            "         [0., 0., 0.]],\n",
            "\n",
            "        [[0., 0., 0.],\n",
            "         [0., 0., 0.],\n",
            "         [0., 0., 0.]],\n",
            "\n",
            "        [[0., 0., 0.],\n",
            "         [0., 0., 0.],\n",
            "         [0., 0., 0.]]])\n"
          ],
          "name": "stdout"
        }
      ]
    },
    {
      "cell_type": "code",
      "metadata": {
        "id": "T_YSYexAJdYH",
        "colab_type": "code",
        "colab": {},
        "outputId": "20104e72-ea11-4554-9a30-aee1146c20bd"
      },
      "source": [
        "x = torch.ones(3,4)\n",
        "print(x)"
      ],
      "execution_count": 0,
      "outputs": [
        {
          "output_type": "stream",
          "text": [
            "tensor([[1., 1., 1., 1.],\n",
            "        [1., 1., 1., 1.],\n",
            "        [1., 1., 1., 1.]])\n"
          ],
          "name": "stdout"
        }
      ]
    },
    {
      "cell_type": "code",
      "metadata": {
        "id": "THwYrDR-JdYT",
        "colab_type": "code",
        "colab": {},
        "outputId": "351ac44f-3121-4f93-d071-ce57fcff0da9"
      },
      "source": [
        "type(x)"
      ],
      "execution_count": 0,
      "outputs": [
        {
          "output_type": "execute_result",
          "data": {
            "text/plain": [
              "torch.Tensor"
            ]
          },
          "metadata": {
            "tags": []
          },
          "execution_count": 8
        }
      ]
    },
    {
      "cell_type": "markdown",
      "metadata": {
        "id": "nDLpz7c8JdYZ",
        "colab_type": "text"
      },
      "source": [
        "Create a tensor directly from data"
      ]
    },
    {
      "cell_type": "code",
      "metadata": {
        "id": "UEUCnMljJdYb",
        "colab_type": "code",
        "colab": {},
        "outputId": "b4becab0-3bc0-4349-8c43-cf774038ecb2"
      },
      "source": [
        "x = torch.Tensor([3,4.5])\n",
        "print(x)"
      ],
      "execution_count": 0,
      "outputs": [
        {
          "output_type": "stream",
          "text": [
            "tensor([3.0000, 4.5000])\n"
          ],
          "name": "stdout"
        }
      ]
    },
    {
      "cell_type": "markdown",
      "metadata": {
        "id": "dp8KZty0JdYh",
        "colab_type": "text"
      },
      "source": [
        "Create a tensor from existing data. These tensors will make use of the properties of the input tensor unless user provides other values"
      ]
    },
    {
      "cell_type": "code",
      "metadata": {
        "id": "ki97hw1pJdYk",
        "colab_type": "code",
        "colab": {},
        "outputId": "780e1c7d-42ed-4353-9d23-4fac8a52111c"
      },
      "source": [
        "x = x.new_ones(5,3)\n",
        "print(x)\n",
        "x = torch.randn_like(x,dtype=torch.float)\n",
        "print(x)"
      ],
      "execution_count": 0,
      "outputs": [
        {
          "output_type": "stream",
          "text": [
            "tensor([[1., 1., 1.],\n",
            "        [1., 1., 1.],\n",
            "        [1., 1., 1.],\n",
            "        [1., 1., 1.],\n",
            "        [1., 1., 1.]])\n",
            "tensor([[ 0.1517, -0.0853,  0.4065],\n",
            "        [ 1.3773, -1.6641,  0.0430],\n",
            "        [ 0.2738, -1.1307,  0.6766],\n",
            "        [-0.2649,  0.8793, -0.5621],\n",
            "        [ 0.7955, -1.9364, -0.8007]])\n"
          ],
          "name": "stdout"
        }
      ]
    },
    {
      "cell_type": "markdown",
      "metadata": {
        "id": "rDSt1qItJdYu",
        "colab_type": "text"
      },
      "source": [
        "Getting the shape and size of a tensor"
      ]
    },
    {
      "cell_type": "code",
      "metadata": {
        "id": "cBD8X9SZJdYw",
        "colab_type": "code",
        "colab": {},
        "outputId": "405db068-89ac-4830-cc8d-02858e264199"
      },
      "source": [
        "print(\"Shape of the tensor is \" , x.shape)\n",
        "print(\"The shape of the tensor is \", x.size())"
      ],
      "execution_count": 0,
      "outputs": [
        {
          "output_type": "stream",
          "text": [
            "Shape of the tensor is  torch.Size([5, 3, 3])\n",
            "The shape of the tensor is  torch.Size([5, 3, 3])\n"
          ],
          "name": "stdout"
        }
      ]
    },
    {
      "cell_type": "code",
      "metadata": {
        "id": "48wSoQaYJdY4",
        "colab_type": "code",
        "colab": {},
        "outputId": "fa957e72-2731-4e2c-e89c-44f2b19876f6"
      },
      "source": [
        "y = torch.randn_like(x,dtype=torch.float)\n",
        "print(y)"
      ],
      "execution_count": 0,
      "outputs": [
        {
          "output_type": "stream",
          "text": [
            "tensor([[[ 0.8472,  0.6929, -0.5014],\n",
            "         [ 0.3371, -1.4125,  0.4087],\n",
            "         [-0.4707, -2.0441, -0.5349]],\n",
            "\n",
            "        [[ 0.9428, -0.1110, -0.6216],\n",
            "         [-1.7062,  1.1234, -0.4036],\n",
            "         [ 0.3263, -0.2838,  1.0547]],\n",
            "\n",
            "        [[ 0.5916,  0.7334, -0.3841],\n",
            "         [ 0.5203,  2.2600,  0.5309],\n",
            "         [-0.6211, -1.4453,  1.3032]],\n",
            "\n",
            "        [[-0.1242, -1.1522, -0.2002],\n",
            "         [-1.1971, -0.5217, -0.2505],\n",
            "         [ 0.9902,  1.0225,  0.0947]],\n",
            "\n",
            "        [[-1.3345, -0.1100,  0.9017],\n",
            "         [-0.3070,  1.1676,  1.5907],\n",
            "         [ 0.4221, -0.6543, -0.2466]]])\n"
          ],
          "name": "stdout"
        }
      ]
    },
    {
      "cell_type": "code",
      "metadata": {
        "id": "jj28a3lMJdY-",
        "colab_type": "code",
        "colab": {},
        "outputId": "68250ea6-3ef3-4eb0-a237-5640b3a4cd22"
      },
      "source": [
        "z = x+y \n",
        "z = torch.add(x,y)\n",
        "y.add_(x)\n",
        "print(z,y)"
      ],
      "execution_count": 0,
      "outputs": [
        {
          "output_type": "stream",
          "text": [
            "tensor([[[ 0.8472,  0.6929, -0.5014],\n",
            "         [ 0.3371, -1.4125,  0.4087],\n",
            "         [-0.4707, -2.0441, -0.5349]],\n",
            "\n",
            "        [[ 0.9428, -0.1110, -0.6216],\n",
            "         [-1.7062,  1.1234, -0.4036],\n",
            "         [ 0.3263, -0.2838,  1.0547]],\n",
            "\n",
            "        [[ 0.5916,  0.7334, -0.3841],\n",
            "         [ 0.5203,  2.2600,  0.5309],\n",
            "         [-0.6211, -1.4453,  1.3032]],\n",
            "\n",
            "        [[-0.1242, -1.1522, -0.2002],\n",
            "         [-1.1971, -0.5217, -0.2505],\n",
            "         [ 0.9902,  1.0225,  0.0947]],\n",
            "\n",
            "        [[-1.3345, -0.1100,  0.9017],\n",
            "         [-0.3070,  1.1676,  1.5907],\n",
            "         [ 0.4221, -0.6543, -0.2466]]]) tensor([[[ 0.8472,  0.6929, -0.5014],\n",
            "         [ 0.3371, -1.4125,  0.4087],\n",
            "         [-0.4707, -2.0441, -0.5349]],\n",
            "\n",
            "        [[ 0.9428, -0.1110, -0.6216],\n",
            "         [-1.7062,  1.1234, -0.4036],\n",
            "         [ 0.3263, -0.2838,  1.0547]],\n",
            "\n",
            "        [[ 0.5916,  0.7334, -0.3841],\n",
            "         [ 0.5203,  2.2600,  0.5309],\n",
            "         [-0.6211, -1.4453,  1.3032]],\n",
            "\n",
            "        [[-0.1242, -1.1522, -0.2002],\n",
            "         [-1.1971, -0.5217, -0.2505],\n",
            "         [ 0.9902,  1.0225,  0.0947]],\n",
            "\n",
            "        [[-1.3345, -0.1100,  0.9017],\n",
            "         [-0.3070,  1.1676,  1.5907],\n",
            "         [ 0.4221, -0.6543, -0.2466]]])\n"
          ],
          "name": "stdout"
        }
      ]
    },
    {
      "cell_type": "code",
      "metadata": {
        "id": "fiFgiSL6JdZF",
        "colab_type": "code",
        "colab": {}
      },
      "source": [
        "z1 = x*y\n",
        "z2 = torch.mul(x,y)"
      ],
      "execution_count": 0,
      "outputs": []
    },
    {
      "cell_type": "markdown",
      "metadata": {
        "id": "87eqpnwhJdZL",
        "colab_type": "text"
      },
      "source": [
        "Any operation that mutates a tensor in place is post-fixed with _ . For instance x.copy_(y) and x.t_() mutates x in-place"
      ]
    },
    {
      "cell_type": "markdown",
      "metadata": {
        "id": "XFjzJb6NJdZP",
        "colab_type": "text"
      },
      "source": [
        "Slicing can be done as in numpy"
      ]
    },
    {
      "cell_type": "code",
      "metadata": {
        "id": "8hUVl-qNJdZR",
        "colab_type": "code",
        "colab": {},
        "outputId": "4347766f-68dd-4447-836c-968112fafc3c"
      },
      "source": [
        "import numpy as np\n",
        "x = torch.from_numpy(np.arange(0,18)).view(2,3,3)\n",
        "print(x)\n",
        "print(x[0,1,1:]) # 0th row of the tensor x\n"
      ],
      "execution_count": 0,
      "outputs": [
        {
          "output_type": "stream",
          "text": [
            "tensor([[[ 0,  1,  2],\n",
            "         [ 3,  4,  5],\n",
            "         [ 6,  7,  8]],\n",
            "\n",
            "        [[ 9, 10, 11],\n",
            "         [12, 13, 14],\n",
            "         [15, 16, 17]]])\n",
            "tensor([4, 5])\n"
          ],
          "name": "stdout"
        }
      ]
    },
    {
      "cell_type": "code",
      "metadata": {
        "id": "ySU9YidtJdZY",
        "colab_type": "code",
        "colab": {},
        "outputId": "47a78a01-706f-4961-d581-74d347baa83c"
      },
      "source": [
        "x[:,0] #0th column of the tensor x"
      ],
      "execution_count": 0,
      "outputs": [
        {
          "output_type": "execute_result",
          "data": {
            "text/plain": [
              "tensor([[0., 0., 0.],\n",
              "        [0., 0., 0.],\n",
              "        [0., 0., 0.],\n",
              "        [0., 0., 0.],\n",
              "        [0., 0., 0.]])"
            ]
          },
          "metadata": {
            "tags": []
          },
          "execution_count": 11
        }
      ]
    },
    {
      "cell_type": "markdown",
      "metadata": {
        "id": "tMxsGwlEJdZg",
        "colab_type": "text"
      },
      "source": [
        "Reshape/resize a tensor. Use *view* to do that"
      ]
    },
    {
      "cell_type": "code",
      "metadata": {
        "id": "TkvgxSwwJdZi",
        "colab_type": "code",
        "colab": {},
        "outputId": "ee55e8b1-d805-44e3-a90c-95150f0a8b10"
      },
      "source": [
        "x = torch.randn(4,5)\n",
        "print(x.data)\n"
      ],
      "execution_count": 0,
      "outputs": [
        {
          "output_type": "stream",
          "text": [
            "tensor([[-0.2959, -0.4985, -0.4986,  1.5352, -0.9586],\n",
            "        [-1.6423,  0.7660, -0.0837, -0.3631, -0.7907],\n",
            "        [ 0.8572,  0.1982,  0.3890,  0.3143,  0.9958],\n",
            "        [ 0.0283,  0.8481, -0.1592,  0.9283,  1.0917]])\n"
          ],
          "name": "stdout"
        }
      ]
    },
    {
      "cell_type": "markdown",
      "metadata": {
        "id": "hS2o7L3iJdZo",
        "colab_type": "text"
      },
      "source": [
        "print the first two rows and columns of x"
      ]
    },
    {
      "cell_type": "code",
      "metadata": {
        "id": "9GXLSLcNJdZp",
        "colab_type": "code",
        "colab": {},
        "outputId": "f78295d0-d7e3-4e1c-b6ce-414de44958b3"
      },
      "source": [
        "print(x[:,[0,2,4]])"
      ],
      "execution_count": 0,
      "outputs": [
        {
          "output_type": "stream",
          "text": [
            "tensor([[-0.1627, -0.5796,  0.2582],\n",
            "        [ 1.0682,  0.6438,  0.4083],\n",
            "        [-0.4226,  1.0184,  1.4377],\n",
            "        [ 0.7201,  0.7566,  1.3571]])\n"
          ],
          "name": "stdout"
        }
      ]
    },
    {
      "cell_type": "code",
      "metadata": {
        "id": "onCJlAa2JdZv",
        "colab_type": "code",
        "colab": {}
      },
      "source": [
        "x = x.view(-1,5)\n",
        "#print(x[10,0])"
      ],
      "execution_count": 0,
      "outputs": []
    },
    {
      "cell_type": "code",
      "metadata": {
        "id": "qt3iYmr_JdZ5",
        "colab_type": "code",
        "colab": {}
      },
      "source": [
        "x = x.view(5,-1)"
      ],
      "execution_count": 0,
      "outputs": []
    },
    {
      "cell_type": "code",
      "metadata": {
        "id": "Bf_q5ZIfJdZ-",
        "colab_type": "code",
        "colab": {},
        "outputId": "7522702f-e3ff-4786-c8bd-884e7a5a76bb"
      },
      "source": [
        "print(x)"
      ],
      "execution_count": 0,
      "outputs": [
        {
          "output_type": "stream",
          "text": [
            "tensor([[-0.1627, -1.5571, -0.5796, -1.6751],\n",
            "        [ 0.2582,  1.0682,  0.9463,  0.6438],\n",
            "        [-0.8692,  0.4083, -0.4226,  1.7094],\n",
            "        [ 1.0184,  0.5408,  1.4377,  0.7201],\n",
            "        [-0.5195,  0.7566,  0.1459,  1.3571]])\n"
          ],
          "name": "stdout"
        }
      ]
    },
    {
      "cell_type": "markdown",
      "metadata": {
        "id": "fySznZ_pJdaE",
        "colab_type": "text"
      },
      "source": [
        "In case of one element tensor use item to extract the value of the tensor"
      ]
    },
    {
      "cell_type": "code",
      "metadata": {
        "id": "IFdQaN85JdaG",
        "colab_type": "code",
        "colab": {}
      },
      "source": [
        "x = torch.tensor(4)"
      ],
      "execution_count": 0,
      "outputs": []
    },
    {
      "cell_type": "code",
      "metadata": {
        "id": "9yMLZ9kLJdaL",
        "colab_type": "code",
        "colab": {},
        "outputId": "497f85e5-6ead-463a-83aa-abdea7c3f3a2"
      },
      "source": [
        "print(x.item())"
      ],
      "execution_count": 0,
      "outputs": [
        {
          "output_type": "stream",
          "text": [
            "4\n"
          ],
          "name": "stdout"
        }
      ]
    },
    {
      "cell_type": "markdown",
      "metadata": {
        "id": "OuU2hP5qJdaS",
        "colab_type": "text"
      },
      "source": [
        "## Numpy Bridge"
      ]
    },
    {
      "cell_type": "markdown",
      "metadata": {
        "id": "PpPS6RcDJdaU",
        "colab_type": "text"
      },
      "source": [
        "#### From tensor to numpy array"
      ]
    },
    {
      "cell_type": "code",
      "metadata": {
        "id": "BjqBqu7CJdaV",
        "colab_type": "code",
        "colab": {}
      },
      "source": [
        "x = torch.tensor([[4,5],[5,6]])"
      ],
      "execution_count": 0,
      "outputs": []
    },
    {
      "cell_type": "code",
      "metadata": {
        "id": "6af1ixGxJdac",
        "colab_type": "code",
        "colab": {}
      },
      "source": [
        "x_numpy = x.numpy()"
      ],
      "execution_count": 0,
      "outputs": []
    },
    {
      "cell_type": "code",
      "metadata": {
        "id": "ngly1i_iJdaj",
        "colab_type": "code",
        "colab": {},
        "outputId": "23eb0c29-d4a4-49d5-f4a1-ca06e9575226"
      },
      "source": [
        "print(x_numpy)"
      ],
      "execution_count": 0,
      "outputs": [
        {
          "output_type": "stream",
          "text": [
            "[[4 5]\n",
            " [5 6]]\n"
          ],
          "name": "stdout"
        }
      ]
    },
    {
      "cell_type": "markdown",
      "metadata": {
        "id": "1PXzkLqAJdaq",
        "colab_type": "text"
      },
      "source": [
        "changing the value of the tensor will change the value of the numpy array also. they both point to the same location in memory"
      ]
    },
    {
      "cell_type": "code",
      "metadata": {
        "id": "wTbrUa83Jdas",
        "colab_type": "code",
        "colab": {},
        "outputId": "702011c9-71c7-4d5f-ca55-99a3fb2dab31"
      },
      "source": [
        "x = x.add_(1)\n",
        "y = x+1\n",
        "print(y)"
      ],
      "execution_count": 0,
      "outputs": [
        {
          "output_type": "stream",
          "text": [
            "tensor([[1.7041, 1.5015, 1.5014, 3.5352, 1.0414],\n",
            "        [0.3577, 2.7660, 1.9163, 1.6369, 1.2093],\n",
            "        [2.8572, 2.1982, 2.3890, 2.3143, 2.9958],\n",
            "        [2.0283, 2.8481, 1.8408, 2.9283, 3.0917]])\n"
          ],
          "name": "stdout"
        }
      ]
    },
    {
      "cell_type": "markdown",
      "metadata": {
        "id": "E_JiYj-XJda0",
        "colab_type": "text"
      },
      "source": [
        "#### From numpy to tensor"
      ]
    },
    {
      "cell_type": "code",
      "metadata": {
        "id": "I1vsi8NbJda2",
        "colab_type": "code",
        "colab": {},
        "outputId": "51ffa1ca-e0fd-416e-fb4c-2f8945b50c9e"
      },
      "source": [
        "import numpy as np\n",
        "\n",
        "a = np.ones((3,3))\n",
        "a_torch = torch.from_numpy(a)\n",
        "print(a_torch)"
      ],
      "execution_count": 0,
      "outputs": [
        {
          "output_type": "stream",
          "text": [
            "tensor([[1., 1., 1.],\n",
            "        [1., 1., 1.],\n",
            "        [1., 1., 1.]], dtype=torch.float64)\n"
          ],
          "name": "stdout"
        }
      ]
    },
    {
      "cell_type": "code",
      "metadata": {
        "id": "tY-pu0CJJdbA",
        "colab_type": "code",
        "colab": {},
        "outputId": "172ee40d-b2cf-4d60-c9b5-0fb661752887"
      },
      "source": [
        "np.add(a,1,out=a)\n",
        "print(a,\"\\n\",a_torch)"
      ],
      "execution_count": 0,
      "outputs": [
        {
          "output_type": "stream",
          "text": [
            "[[5. 5. 5.]\n",
            " [5. 5. 5.]\n",
            " [5. 5. 5.]] \n",
            " tensor([[5., 5., 5.],\n",
            "        [5., 5., 5.],\n",
            "        [5., 5., 5.]], dtype=torch.float64)\n"
          ],
          "name": "stdout"
        }
      ]
    }
  ]
}